{
 "cells": [
  {
   "cell_type": "code",
   "execution_count": 5,
   "metadata": {
    "collapsed": false
   },
   "outputs": [
    {
     "name": "stdout",
     "output_type": "stream",
     "text": [
      "OrderedDict([('id', '8000'), ('date [yr]', '[5, 6]'), ('area ', '[3]'), ('magnitude', '0'), ('parents', ''), ('children', ''), ('siblings', '[12156]'), (' person', 'eng015'), ('status', '1')])\n",
      "OrderedDict([('id', '12156'), ('date [yr]', '[5, 9]'), ('area ', '[3]'), ('magnitude', '0'), ('parents', ''), ('children', ''), ('siblings', '[8000, 13320, 22946]'), (' person', 'eng178'), ('status', '-1')])\n",
      "OrderedDict([('id', '13320'), ('date [yr]', ''), ('area ', '[23]'), ('magnitude', '1'), ('parents', ''), ('children', ''), ('siblings', '[12156]'), (' person', ''), ('status', '')])\n",
      "OrderedDict([('id', '22850'), ('date [yr]', '[6, 7]'), ('area ', '[1]'), ('magnitude', '0'), ('parents', ''), ('children', '[22946]'), ('siblings', ''), (' person', 'eng013'), ('status', '1')])\n",
      "OrderedDict([('id', '22946'), ('date [yr]', '[6, 8]'), ('area ', '[3]'), ('magnitude', '0'), ('parents', '[22850]'), ('children', ''), ('siblings', '[31235, 12156, 26117, 30548]'), (' person', 'eng015'), ('status', '-1')])\n",
      "OrderedDict([('id', '23024'), ('date [yr]', '[6, 7]'), ('area ', '[1]'), ('magnitude', '0'), ('parents', ''), ('children', '[23942, 23945, 23992, 27169]'), ('siblings', '[23922]'), (' person', 'eng204'), ('status', '1')])\n",
      "OrderedDict([('id', '23729'), ('date [yr]', '[6, 7]'), ('area ', '[3]'), ('magnitude', '1'), ('parents', '[23922]'), ('children', ''), ('siblings', '[23821, 24980, 29731]'), (' person', 'eng302'), ('status', '1')])\n",
      "OrderedDict([('id', '23821'), ('date [yr]', '[6, 7]'), ('area ', '[1]'), ('magnitude', '0'), ('parents', ''), ('children', '[23922]'), ('siblings', '[23729, 24781]'), (' person', 'eng013'), ('status', '-1')])\n",
      "OrderedDict([('id', '23831'), ('date [yr]', '[6, 7]'), ('area ', '[1]'), ('magnitude', '0'), ('parents', '[23925]'), ('children', '[23925]'), ('siblings', '[24781, 25476, 25515]'), (' person', 'eng008'), ('status', '1')])\n",
      "OrderedDict([('id', '23922'), ('date [yr]', '[6, 7]'), ('area ', '[3]'), ('magnitude', '0'), ('parents', '[23821]'), ('children', '[23729]'), ('siblings', '[23024, 27169]'), (' person', 'eng041'), ('status', '-1')])\n",
      "OrderedDict([('id', '23925'), ('date [yr]', '[6, 7]'), ('area ', '[14]'), ('magnitude', '3'), ('parents', '[23831]'), ('children', '[23831, 24781, 25476, 25515]'), ('siblings', ''), (' person', 'eng041'), ('status', '1')])\n",
      "OrderedDict([('id', '23942'), ('date [yr]', '[6, 9]'), ('area ', '[19]'), ('magnitude', '0'), ('parents', '[23024]'), ('children', ''), ('siblings', '[23945, 23992, 27169]'), (' person', 'eng106'), ('status', '-1')])\n",
      "OrderedDict([('id', '23945'), ('date [yr]', '[6, 9]'), ('area ', '[5]'), ('magnitude', '1'), ('parents', '[23024]'), ('children', ''), ('siblings', '[23942, 23992, 27169]'), (' person', 'eng106'), ('status', '-1')])\n",
      "OrderedDict([('id', '23992'), ('date [yr]', '[6, 9]'), ('area ', '[5]'), ('magnitude', '2'), ('parents', '[23024]'), ('children', ''), ('siblings', '[23942, 23945, 27169]'), (' person', 'eng079'), ('status', '-1')])\n",
      "OrderedDict([('id', '24659'), ('date [yr]', '[6, 7]'), ('area ', '[10]'), ('magnitude', '2'), ('parents', ''), ('children', '[25053]'), ('siblings', '[24926]'), (' person', 'eng183'), ('status', '1')])\n",
      "OrderedDict([('id', '24781'), ('date [yr]', '[6, 7]'), ('area ', '[4]'), ('magnitude', '2'), ('parents', '[23925]'), ('children', ''), ('siblings', '[23831, 25476, 25515, 23821, 25481, 29826]'), (' person', 'eng183'), ('status', '1')])\n",
      "OrderedDict([('id', '24926'), ('date [yr]', '[6, 7]'), ('area ', '[10]'), ('magnitude', '1'), ('parents', '[24927]'), ('children', '[24927]'), ('siblings', '[25463, 24659, 25053, 25481]'), (' person', 'eng183'), ('status', '1')])\n",
      "OrderedDict([('id', '24927'), ('date [yr]', '[6, 7]'), ('area ', '[14]'), ('magnitude', '1'), ('parents', '[24926]'), ('children', '[24926, 25463]'), ('siblings', ''), (' person', 'eng183'), ('status', '1')])\n",
      "OrderedDict([('id', '24980'), ('date [yr]', '[6, 7]'), ('area ', '[3]'), ('magnitude', '2'), ('parents', ''), ('children', ''), ('siblings', '[23729]'), (' person', 'eng178'), ('status', '1')])\n",
      "OrderedDict([('id', '25053'), ('date [yr]', '[6, 7]'), ('area ', '[10]'), ('magnitude', '0'), ('parents', '[24659]'), ('children', ''), ('siblings', '[24926]'), (' person', 'eng073'), ('status', '-1')])\n",
      "OrderedDict([('id', '25463'), ('date [yr]', '[6, 7]'), ('area ', '[10]'), ('magnitude', '2'), ('parents', '[24927]'), ('children', ''), ('siblings', '[24926]'), (' person', 'eng122'), ('status', '1')])\n",
      "OrderedDict([('id', '25476'), ('date [yr]', '[6, 7]'), ('area ', '[19]'), ('magnitude', '2'), ('parents', '[23925]'), ('children', ''), ('siblings', '[23831, 24781, 25515]'), (' person', 'eng183'), ('status', '1')])\n",
      "OrderedDict([('id', '25481'), ('date [yr]', '[6, 7]'), ('area ', '[10]'), ('magnitude', '1'), ('parents', ''), ('children', ''), ('siblings', '[24926, 24781]'), (' person', 'eng183'), ('status', '1')])\n",
      "OrderedDict([('id', '25515'), ('date [yr]', '[6, 7]'), ('area ', '[20]'), ('magnitude', '2'), ('parents', '[23925]'), ('children', ''), ('siblings', '[23831, 24781, 25476]'), (' person', 'eng183'), ('status', '1')])\n",
      "OrderedDict([('id', '26117'), ('date [yr]', '[7, 7]'), ('area ', '[3]'), ('magnitude', '0'), ('parents', ''), ('children', ''), ('siblings', '[22946]'), (' person', 'eng318'), ('status', '-1')])\n",
      "OrderedDict([('id', '26331'), ('date [yr]', ''), ('area ', '[3]'), ('magnitude', '1'), ('parents', ''), ('children', '[26333]'), ('siblings', ''), (' person', ''), ('status', '')])\n",
      "OrderedDict([('id', '26333'), ('date [yr]', '[7, 7]'), ('area ', '[3]'), ('magnitude', '2'), ('parents', '[26331]'), ('children', ''), ('siblings', '[29711, 29226, 27023]'), (' person', 'eng244'), ('status', '-1')])\n",
      "OrderedDict([('id', '27023'), ('date [yr]', '[7, 7]'), ('area ', '[3]'), ('magnitude', '0'), ('parents', ''), ('children', ''), ('siblings', '[26333]'), (' person', 'eng301'), ('status', '-1')])\n",
      "OrderedDict([('id', '27027'), ('date [yr]', '[7, 7]'), ('area ', '[19]'), ('magnitude', '3'), ('parents', ''), ('children', '[28695]'), ('siblings', '[28213, 28846]'), (' person', 'eng248'), ('status', '1')])\n",
      "OrderedDict([('id', '27169'), ('date [yr]', '[7, 9]'), ('area ', '[19]'), ('magnitude', '1'), ('parents', '[23024]'), ('children', ''), ('siblings', '[23942, 23945, 23992, 23922]'), (' person', 'eng177'), ('status', '1')])\n",
      "OrderedDict([('id', '27585'), ('date [yr]', '[7, 7]'), ('area ', '[19]'), ('magnitude', '4'), ('parents', ''), ('children', ''), ('siblings', '[28007, 30143]'), (' person', 'eng087'), ('status', '1')])\n",
      "OrderedDict([('id', '27592'), ('date [yr]', '[7, 8]'), ('area ', '[1]'), ('magnitude', '0'), ('parents', ''), ('children', ''), ('siblings', '[27952, 31966]'), (' person', 'eng343'), ('status', '0')])\n",
      "OrderedDict([('id', '27627'), ('date [yr]', '[7, 7]'), ('area ', '[19]'), ('magnitude', '3'), ('parents', ''), ('children', '[28878]'), ('siblings', ''), (' person', 'eng030'), ('status', '1')])\n",
      "OrderedDict([('id', '27656'), ('date [yr]', '[7, 7]'), ('area ', '[19]'), ('magnitude', '0'), ('parents', ''), ('children', '[28528]'), ('siblings', '[28428]'), (' person', 'eng087'), ('status', '-1')])\n",
      "OrderedDict([('id', '27952'), ('date [yr]', '[7, 8]'), ('area ', '[1]'), ('magnitude', '0'), ('parents', ''), ('children', '[31966, 31967]'), ('siblings', '[28601, 30501, 27592]'), (' person', 'eng087'), ('status', '0')])\n",
      "OrderedDict([('id', '28007'), ('date [yr]', '[7, 7]'), ('area ', '[3]'), ('magnitude', '2'), ('parents', ''), ('children', ''), ('siblings', '[27585, 28213]'), (' person', 'eng301'), ('status', '1')])\n",
      "OrderedDict([('id', '28009'), ('date [yr]', '[7, 7]'), ('area ', '[1]'), ('magnitude', '0'), ('parents', ''), ('children', '[30148]'), ('siblings', '[28067, 28428, 28531, 28821, 30465, 30548]'), (' person', 'eng013'), ('status', '1')])\n",
      "OrderedDict([('id', '28067'), ('date [yr]', ''), ('area ', '[3]'), ('magnitude', '1'), ('parents', ''), ('children', ''), ('siblings', '[28009, 28186]'), (' person', ''), ('status', '')])\n",
      "OrderedDict([('id', '28122'), ('date [yr]', '[7, 7]'), ('area ', '[19]'), ('magnitude', '2'), ('parents', ''), ('children', '[28153]'), ('siblings', '[28788, 28790]'), (' person', 'eng176'), ('status', '1')])\n",
      "OrderedDict([('id', '28153'), ('date [yr]', '[7, 7]'), ('area ', '[3]'), ('magnitude', '0'), ('parents', '[28122]'), ('children', ''), ('siblings', '[29711, 28213, 28878]'), (' person', 'eng244'), ('status', '-1')])\n",
      "OrderedDict([('id', '28162'), ('date [yr]', ''), ('area ', '[35]'), ('magnitude', '1'), ('parents', ''), ('children', ''), ('siblings', '[28601]'), (' person', ''), ('status', '')])\n",
      "OrderedDict([('id', '28166'), ('date [yr]', ''), ('area ', '[3]'), ('magnitude', '1'), ('parents', ''), ('children', ''), ('siblings', '[28567]'), (' person', ''), ('status', '')])\n",
      "OrderedDict([('id', '28186'), ('date [yr]', '[7, 7]'), ('area ', '[19]'), ('magnitude', '1'), ('parents', ''), ('children', '[28529]'), ('siblings', '[28067]'), (' person', 'eng176'), ('status', '1')])\n",
      "OrderedDict([('id', '28187'), ('date [yr]', '[7, 7]'), ('area ', '[19]'), ('magnitude', '3'), ('parents', ''), ('children', '[28213]'), ('siblings', ''), (' person', 'eng176'), ('status', '1')])\n",
      "OrderedDict([('id', '28213'), ('date [yr]', '[7, 7]'), ('area ', '[3]'), ('magnitude', '2'), ('parents', '[28187]'), ('children', ''), ('siblings', '[28007, 28153, 27027]'), (' person', 'eng301'), ('status', '1')])\n",
      "OrderedDict([('id', '28428'), ('date [yr]', '[7, 7]'), ('area ', '[19]'), ('magnitude', '2'), ('parents', ''), ('children', '[28531, 28821]'), ('siblings', '[27656, 28009]'), (' person', 'eng299'), ('status', '1')])\n",
      "OrderedDict([('id', '28528'), ('date [yr]', '[7, 7]'), ('area ', '[3]'), ('magnitude', '1'), ('parents', '[27656]'), ('children', ''), ('siblings', ''), (' person', 'eng168'), ('status', '1')])\n",
      "OrderedDict([('id', '28529'), ('date [yr]', '[7, 7]'), ('area ', '[3]'), ('magnitude', '1'), ('parents', '[28186]'), ('children', ''), ('siblings', '[29711]'), (' person', 'eng168'), ('status', '-1')])\n",
      "OrderedDict([('id', '28531'), ('date [yr]', '[7, 7]'), ('area ', '[3]'), ('magnitude', '2'), ('parents', '[28428]'), ('children', ''), ('siblings', '[28821, 28009, 28878]'), (' person', 'eng168'), ('status', '1')])\n",
      "OrderedDict([('id', '28567'), ('date [yr]', '[7, 7]'), ('area ', '[1]'), ('magnitude', '0'), ('parents', ''), ('children', '[29538, 29547]'), ('siblings', '[28166]'), (' person', 'eng087'), ('status', '1')])\n",
      "OrderedDict([('id', '28601'), ('date [yr]', '[7, 8]'), ('area ', '[1]'), ('magnitude', '0'), ('parents', ''), ('children', '[31972]'), ('siblings', '[27952, 28162, 31973]'), (' person', 'eng087'), ('status', '0')])\n",
      "OrderedDict([('id', '28695'), ('date [yr]', '[7, 7]'), ('area ', '[19]'), ('magnitude', '0'), ('parents', '[27027]'), ('children', ''), ('siblings', ''), (' person', 'eng309'), ('status', '1')])\n",
      "OrderedDict([('id', '28696'), ('date [yr]', '[7, 7]'), ('area ', '[1]'), ('magnitude', '0'), ('parents', ''), ('children', '[29226, 29227, 29744]'), ('siblings', ''), (' person', 'eng013'), ('status', '1')])\n",
      "OrderedDict([('id', '28788'), ('date [yr]', ''), ('area ', '[3]'), ('magnitude', '1'), ('parents', ''), ('children', ''), ('siblings', '[28122]'), (' person', ''), ('status', '')])\n",
      "OrderedDict([('id', '28790'), ('date [yr]', ''), ('area ', '[3]'), ('magnitude', '1'), ('parents', ''), ('children', ''), ('siblings', '[28122]'), (' person', ''), ('status', '')])\n",
      "OrderedDict([('id', '28821'), ('date [yr]', '[7, 7]'), ('area ', '[3]'), ('magnitude', '0'), ('parents', '[28428]'), ('children', ''), ('siblings', '[28531, 28009, 29711]'), (' person', 'eng168'), ('status', '-1')])\n",
      "OrderedDict([('id', '28846'), ('date [yr]', '[7, 7]'), ('area ', '[19]'), ('magnitude', '2'), ('parents', ''), ('children', '[29399]'), ('siblings', '[27027]'), (' person', 'eng321'), ('status', '1')])\n",
      "OrderedDict([('id', '28878'), ('date [yr]', '[7, 7]'), ('area ', '[3]'), ('magnitude', '2'), ('parents', '[27627]'), ('children', ''), ('siblings', '[28531, 28153]'), (' person', 'eng244'), ('status', '1')])\n",
      "OrderedDict([('id', '29226'), ('date [yr]', '[7, 7]'), ('area ', '[3]'), ('magnitude', '3'), ('parents', '[28696]'), ('children', '[29731]'), ('siblings', '[29227, 29744, 26333, 30126, 32289]'), (' person', 'eng106'), ('status', '1')])\n",
      "OrderedDict([('id', '29227'), ('date [yr]', '[7, 7]'), ('area ', '[6]'), ('magnitude', '2'), ('parents', '[28696]'), ('children', ''), ('siblings', '[29226, 29744]'), (' person', 'eng106'), ('status', '1')])\n",
      "OrderedDict([('id', '29353'), ('date [yr]', '[7, 8]'), ('area ', '[19]'), ('magnitude', '2'), ('parents', ''), ('children', ''), ('siblings', '[29826]'), (' person', 'eng264'), ('status', '1')])\n",
      "OrderedDict([('id', '29399'), ('date [yr]', '[7, 7]'), ('area ', '[19]'), ('magnitude', '0'), ('parents', '[28846]'), ('children', ''), ('siblings', ''), (' person', 'eng140'), ('status', '-1')])\n",
      "OrderedDict([('id', '29538'), ('date [yr]', '[7, 7]'), ('area ', '[6]'), ('magnitude', '2'), ('parents', '[28567]'), ('children', '[30344, 30614]'), ('siblings', '[29547]'), (' person', 'eng106'), ('status', '1')])\n",
      "OrderedDict([('id', '29547'), ('date [yr]', '[7, 7]'), ('area ', '[3]'), ('magnitude', '1'), ('parents', '[28567]'), ('children', ''), ('siblings', '[29538, 29711]'), (' person', 'eng106'), ('status', '1')])\n",
      "OrderedDict([('id', '29711'), ('date [yr]', '[7, 7]'), ('area ', '[3]'), ('magnitude', '0'), ('parents', ''), ('children', '[30548]'), ('siblings', '[26333, 28153, 28529, 28821, 29547, 30148]'), (' person', 'eng244'), ('status', '1')])\n",
      "OrderedDict([('id', '29731'), ('date [yr]', '[7, 7]'), ('area ', '[3]'), ('magnitude', '2'), ('parents', '[29226]'), ('children', ''), ('siblings', '[23729]'), (' person', 'eng376'), ('status', '1')])\n",
      "OrderedDict([('id', '29744'), ('date [yr]', '[7, 7]'), ('area ', '[19]'), ('magnitude', '2'), ('parents', '[28696]'), ('children', ''), ('siblings', '[29226, 29227]'), (' person', 'eng299'), ('status', '1')])\n",
      "OrderedDict([('id', '29826'), ('date [yr]', '[7, 7]'), ('area ', '[3]'), ('magnitude', '2'), ('parents', ''), ('children', ''), ('siblings', '[24781, 29353]'), (' person', 'eng275'), ('status', '1')])\n",
      "OrderedDict([('id', '30126'), ('date [yr]', '[7, 7]'), ('area ', '[3]'), ('magnitude', '2'), ('parents', ''), ('children', ''), ('siblings', '[29226]'), (' person', 'eng301'), ('status', '1')])\n",
      "OrderedDict([('id', '30143'), ('date [yr]', '[7, 7]'), ('area ', '[19]'), ('magnitude', '3'), ('parents', ''), ('children', ''), ('siblings', '[27585]'), (' person', 'eng030'), ('status', '1')])\n",
      "OrderedDict([('id', '30148'), ('date [yr]', '[7, 7]'), ('area ', '[3]'), ('magnitude', '0'), ('parents', '[28009]'), ('children', ''), ('siblings', '[29711]'), (' person', 'eng106'), ('status', '-1')])\n",
      "OrderedDict([('id', '30344'), ('date [yr]', '[7, 7]'), ('area ', '[19]'), ('magnitude', '1'), ('parents', '[29538]'), ('children', ''), ('siblings', '[30614]'), (' person', 'eng176'), ('status', '1')])\n",
      "OrderedDict([('id', '30465'), ('date [yr]', ''), ('area ', '[11]'), ('magnitude', '1'), ('parents', ''), ('children', ''), ('siblings', '[28009]'), (' person', ''), ('status', '')])\n",
      "OrderedDict([('id', '30466'), ('date [yr]', ''), ('area ', '[11]'), ('magnitude', '1'), ('parents', ''), ('children', ''), ('siblings', '[30503]'), (' person', ''), ('status', '')])\n",
      "OrderedDict([('id', '30501'), ('date [yr]', '[7, 8]'), ('area ', '[1]'), ('magnitude', '0'), ('parents', ''), ('children', '[30503]'), ('siblings', '[27952]'), (' person', 'eng013'), ('status', '0')])\n",
      "OrderedDict([('id', '30503'), ('date [yr]', '[7, 7]'), ('area ', '[1]'), ('magnitude', '0'), ('parents', '[30501]'), ('children', ''), ('siblings', '[30466, 30548]'), (' person', 'eng013'), ('status', '1')])\n",
      "OrderedDict([('id', '30548'), ('date [yr]', '[7, 7]'), ('area ', '[3]'), ('magnitude', '3'), ('parents', '[29711]'), ('children', ''), ('siblings', '[28009, 30503, 30771, 22946, 31471]'), (' person', 'eng296'), ('status', '1')])\n",
      "OrderedDict([('id', '30614'), ('date [yr]', '[7, 7]'), ('area ', '[14]'), ('magnitude', '1'), ('parents', '[29538]'), ('children', ''), ('siblings', '[30344]'), (' person', 'eng017'), ('status', '1')])\n",
      "OrderedDict([('id', '30771'), ('date [yr]', '[7, 7]'), ('area ', '[1]'), ('magnitude', '0'), ('parents', ''), ('children', ''), ('siblings', '[30548]'), (' person', 'eng013'), ('status', '1')])\n",
      "OrderedDict([('id', '31235'), ('date [yr]', '[7, 7]'), ('area ', '[3]'), ('magnitude', '0'), ('parents', ''), ('children', ''), ('siblings', '[22946]'), (' person', 'eng019'), ('status', '-1')])\n",
      "OrderedDict([('id', '31471'), ('date [yr]', '[7, 7]'), ('area ', '[3]'), ('magnitude', '0'), ('parents', ''), ('children', ''), ('siblings', '[30548]'), (' person', 'eng140'), ('status', '-1')])\n",
      "OrderedDict([('id', '31966'), ('date [yr]', '[7, 7]'), ('area ', '[19]'), ('magnitude', '3'), ('parents', '[27952]'), ('children', '[32645]'), ('siblings', '[31967, 27592, 31972]'), (' person', 'eng087'), ('status', '1')])\n",
      "OrderedDict([('id', '31967'), ('date [yr]', '[7, 7]'), ('area ', '[19]'), ('magnitude', '3'), ('parents', '[27952]'), ('children', ''), ('siblings', '[31966, 31973]'), (' person', 'eng087'), ('status', '1')])\n",
      "OrderedDict([('id', '31972'), ('date [yr]', '[7, 7]'), ('area ', '[19]'), ('magnitude', '0'), ('parents', '[28601]'), ('children', ''), ('siblings', '[31966]'), (' person', 'eng087'), ('status', '-1')])\n",
      "OrderedDict([('id', '31973'), ('date [yr]', '[7, 7]'), ('area ', '[19]'), ('magnitude', '0'), ('parents', ''), ('children', ''), ('siblings', '[28601, 31967]'), (' person', 'eng087'), ('status', '-1')])\n",
      "OrderedDict([('id', '32289'), ('date [yr]', '[7, 7]'), ('area ', '[3]'), ('magnitude', '1'), ('parents', ''), ('children', ''), ('siblings', '[29226]'), (' person', 'eng296'), ('status', '1')])\n",
      "OrderedDict([('id', '32645'), ('date [yr]', '[7, 7]'), ('area ', '[14]'), ('magnitude', '1'), ('parents', '[31966]'), ('children', ''), ('siblings', ''), (' person', 'eng261'), ('status', '1')])\n"
     ]
    }
   ],
   "source": [
    "import csv\n",
    "import numpy as np\n",
    "c2c = np.array()\n",
    "a2a = \n",
    "with open('CR87_dataset.csv') as dataset:\n",
    "    dictReader = csv.DictReader(dataset)\n",
    "    for row in dictReader:\n",
    "        print(row)\n",
    "        "
   ]
  },
  {
   "cell_type": "code",
   "execution_count": null,
   "metadata": {
    "collapsed": true
   },
   "outputs": [],
   "source": []
  }
 ],
 "metadata": {
  "kernelspec": {
   "display_name": "Python 3",
   "language": "python",
   "name": "python3"
  },
  "language_info": {
   "codemirror_mode": {
    "name": "ipython",
    "version": 3
   },
   "file_extension": ".py",
   "mimetype": "text/x-python",
   "name": "python",
   "nbconvert_exporter": "python",
   "pygments_lexer": "ipython3",
   "version": "3.6.0"
  }
 },
 "nbformat": 4,
 "nbformat_minor": 2
}
